{
 "cells": [
  {
   "cell_type": "markdown",
   "metadata": {
    "colab_type": "text",
    "id": "UncprnB0ymAE"
   },
   "source": [
    "Below is code with a link to a happy or sad dataset which contains 80 images, 40 happy and 40 sad. \n",
    "Create a convolutional neural network that trains to 100% accuracy on these images,  which cancels training upon hitting training accuracy of >.999\n",
    "\n",
    "Hint -- it will work best with 3 convolutional layers."
   ]
  },
  {
   "cell_type": "code",
   "execution_count": 1,
   "metadata": {},
   "outputs": [],
   "source": [
    "import tensorflow as tf\n",
    "import os\n",
    "import zipfile\n",
    "from os import path, getcwd, chdir\n",
    "\n",
    "# DO NOT CHANGE THE LINE BELOW. If you are developing in a local\n",
    "# environment, then grab happy-or-sad.zip from the Coursera Jupyter Notebook\n",
    "# and place it inside a local folder and edit the path to that location\n",
    "path = f\"{getcwd()}/../tmp2/happy-or-sad.zip\"\n",
    "\n",
    "zip_ref = zipfile.ZipFile(path, 'r')\n",
    "zip_ref.extractall(\"/tmp/h-or-s\")\n",
    "zip_ref.close()"
   ]
  },
  {
   "cell_type": "code",
   "execution_count": 2,
   "metadata": {},
   "outputs": [],
   "source": [
    "# GRADED FUNCTION: train_happy_sad_model\n",
    "def train_happy_sad_model():\n",
    "    # Please write your code only where you are indicated.\n",
    "    # please do not remove # model fitting inline comments.\n",
    "\n",
    "    DESIRED_ACCURACY = 0.999\n",
    "\n",
    "    class myCallback(tf.keras.callbacks.Callback):\n",
    "        def on_epoch_end(self, epoch, logs={}):\n",
    "            if(logs.get('acc')>0.999):\n",
    "                print(\"\\nReached 99.9% accuracy so cancelling training!\")\n",
    "                self.model.stop_training = True\n",
    "    \n",
    "    \n",
    "    # This Code Block should Define and Compile the Model. Please assume the images are 150 X 150 in your implementation.\n",
    "    model = tf.keras.models.Sequential([\n",
    "        # Your Code Here\n",
    "         # Note the input shape is the desired size of the image 300x300 with 3 bytes color\n",
    "    # This is the first convolution\n",
    "        tf.keras.layers.Conv2D(16, (3,3), activation='relu', input_shape=(150, 150, 3)),\n",
    "        tf.keras.layers.MaxPooling2D(2, 2),\n",
    "    # The second convolution\n",
    "        tf.keras.layers.Conv2D(32, (3,3), activation='relu'),\n",
    "        tf.keras.layers.MaxPooling2D(2,2),\n",
    "    # The third convolution\n",
    "        tf.keras.layers.Conv2D(64, (3,3), activation='relu'),\n",
    "        tf.keras.layers.MaxPooling2D(2,2),\n",
    "    # The fourth convolution\n",
    "        tf.keras.layers.Conv2D(64, (3,3), activation='relu'),\n",
    "        tf.keras.layers.MaxPooling2D(2,2),\n",
    "    # The fifth convolution\n",
    "        tf.keras.layers.Conv2D(64, (3,3), activation='relu'),\n",
    "        tf.keras.layers.MaxPooling2D(2,2),\n",
    "    # Flatten the results to feed into a DNN\n",
    "        tf.keras.layers.Flatten(),\n",
    "    # 512 neuron hidden layer\n",
    "        tf.keras.layers.Dense(512, activation='relu'),\n",
    "    # Only 1 output neuron. It will contain a value from 0-1 where 0 for 1 class ('horses') and 1 for the other ('humans')\n",
    "        tf.keras.layers.Dense(1, activation='sigmoid')\n",
    "    ])\n",
    "    callbacks = myCallback()\n",
    "    from tensorflow.keras.optimizers import RMSprop\n",
    "\n",
    "    model.compile(# Your Code Here # \n",
    "              loss='binary_crossentropy',\n",
    "              optimizer=RMSprop(lr=0.001),\n",
    "              metrics=['acc'])\n",
    "        \n",
    "\n",
    "    # This code block should create an instance of an ImageDataGenerator called train_datagen \n",
    "    # And a train_generator by calling train_datagen.flow_from_directory\n",
    "\n",
    "    from tensorflow.keras.preprocessing.image import ImageDataGenerator\n",
    "\n",
    "    train_datagen = ImageDataGenerator(rescale=1/255) # Your Code Here  \n",
    "\n",
    "    # Please use a target_size of 150 X 150.\n",
    "    train_generator = train_datagen.flow_from_directory( # Your Code Here\n",
    "                '/tmp/h-or-s/',  # This is the source directory for training images\n",
    "                target_size=(150, 150),  # All images will be resized to 150x150\n",
    "                batch_size=128,\n",
    "                # Since we use binary_crossentropy loss, we need binary labels\n",
    "                class_mode='binary')\n",
    "    # Expected output: 'Found 80 images belonging to 2 classes'\n",
    "\n",
    "    # This code block should call model.fit_generator and train for\n",
    "    # a number of epochs.\n",
    "    # model fitting\n",
    "    history = model.fit_generator(\n",
    "          # Your Code Here\n",
    "    train_generator,\n",
    "      steps_per_epoch=8,  \n",
    "      epochs=15,\n",
    "      verbose=1)\n",
    "    # model fitting\n",
    "    return history.history['acc'][-1]"
   ]
  },
  {
   "cell_type": "code",
   "execution_count": 3,
   "metadata": {},
   "outputs": [
    {
     "name": "stderr",
     "output_type": "stream",
     "text": [
      "WARNING: Logging before flag parsing goes to stderr.\n",
      "W0904 07:02:51.049133 140329400952640 deprecation.py:506] From /usr/local/lib/python3.6/dist-packages/tensorflow/python/ops/init_ops.py:1251: calling VarianceScaling.__init__ (from tensorflow.python.ops.init_ops) with dtype is deprecated and will be removed in a future version.\n",
      "Instructions for updating:\n",
      "Call initializer instance with the dtype argument instead of passing it to the constructor\n",
      "W0904 07:02:51.604509 140329400952640 deprecation.py:323] From /usr/local/lib/python3.6/dist-packages/tensorflow/python/ops/nn_impl.py:180: add_dispatch_support.<locals>.wrapper (from tensorflow.python.ops.array_ops) is deprecated and will be removed in a future version.\n",
      "Instructions for updating:\n",
      "Use tf.where in 2.0, which has the same broadcast rule as np.where\n"
     ]
    },
    {
     "name": "stdout",
     "output_type": "stream",
     "text": [
      "Found 80 images belonging to 2 classes.\n",
      "Epoch 1/15\n",
      "8/8 [==============================] - 9s 1s/step - loss: 0.6987 - acc: 0.7063\n",
      "Epoch 2/15\n",
      "8/8 [==============================] - 3s 336ms/step - loss: 0.3993 - acc: 0.8062\n",
      "Epoch 3/15\n",
      "8/8 [==============================] - 3s 326ms/step - loss: 0.2319 - acc: 0.9094\n",
      "Epoch 4/15\n",
      "8/8 [==============================] - 2s 312ms/step - loss: 0.1924 - acc: 0.9203\n",
      "Epoch 5/15\n",
      "8/8 [==============================] - 2s 312ms/step - loss: 0.1433 - acc: 0.9563\n",
      "Epoch 6/15\n",
      "8/8 [==============================] - 2s 301ms/step - loss: 0.0780 - acc: 0.9828\n",
      "Epoch 7/15\n",
      "8/8 [==============================] - 2s 312ms/step - loss: 0.0358 - acc: 0.9922\n",
      "Epoch 8/15\n",
      "8/8 [==============================] - 2s 301ms/step - loss: 0.0039 - acc: 1.0000\n",
      "Epoch 9/15\n",
      "8/8 [==============================] - 2s 310ms/step - loss: 0.0015 - acc: 1.0000\n",
      "Epoch 10/15\n",
      "8/8 [==============================] - 2s 301ms/step - loss: 7.1405e-04 - acc: 1.0000\n",
      "Epoch 11/15\n",
      "8/8 [==============================] - 2s 302ms/step - loss: 3.5642e-04 - acc: 1.0000\n",
      "Epoch 12/15\n",
      "8/8 [==============================] - 2s 292ms/step - loss: 1.8658e-04 - acc: 1.0000\n",
      "Epoch 13/15\n",
      "8/8 [==============================] - 2s 302ms/step - loss: 1.0053e-04 - acc: 1.0000\n",
      "Epoch 14/15\n",
      "8/8 [==============================] - 2s 302ms/step - loss: 5.6683e-05 - acc: 1.0000\n",
      "Epoch 15/15\n",
      "8/8 [==============================] - 2s 308ms/step - loss: 3.1937e-05 - acc: 1.0000\n"
     ]
    },
    {
     "data": {
      "text/plain": [
       "1.0"
      ]
     },
     "execution_count": 3,
     "metadata": {},
     "output_type": "execute_result"
    }
   ],
   "source": [
    "# The Expected output: \"Reached 99.9% accuracy so cancelling training!\"\"\n",
    "train_happy_sad_model()"
   ]
  }
 ],
 "metadata": {
  "coursera": {
   "course_slug": "introduction-tensorflow",
   "graded_item_id": "1kAlw",
   "launcher_item_id": "PNLYD"
  },
  "kernelspec": {
   "display_name": "Python 3",
   "language": "python",
   "name": "python3"
  },
  "language_info": {
   "codemirror_mode": {
    "name": "ipython",
    "version": 3
   },
   "file_extension": ".py",
   "mimetype": "text/x-python",
   "name": "python",
   "nbconvert_exporter": "python",
   "pygments_lexer": "ipython3",
   "version": "3.6.8"
  }
 },
 "nbformat": 4,
 "nbformat_minor": 1
}
